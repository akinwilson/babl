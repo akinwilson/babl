{
 "cells": [
  {
   "cell_type": "code",
   "execution_count": 25,
   "metadata": {},
   "outputs": [
    {
     "data": {
      "text/plain": [
       "{'attention_mask', 'input_ids', 'target_attention_mask', 'target_ids'}"
      ]
     },
     "execution_count": 25,
     "metadata": {},
     "output_type": "execute_result"
    }
   ],
   "source": [
    "set([\"input_ids\", \"attention_mask\", \"target_ids\", \"target_attention_mask\" ])"
   ]
  },
  {
   "cell_type": "code",
   "execution_count": 6,
   "metadata": {},
   "outputs": [
    {
     "name": "stdout",
     "output_type": "stream",
     "text": [
      "num valid: 3194\n"
     ]
    },
    {
     "name": "stderr",
     "output_type": "stream",
     "text": [
      "/home/nameduser/.local/share/virtualenvs/babl-qoEDH0A2/lib/python3.10/site-packages/transformers/tokenization_utils_base.py:2681: FutureWarning: The `pad_to_max_length` argument is deprecated and will be removed in a future version, use `padding=True` or `padding='longest'` to pad to the longest sequence in the batch, or use `padding='max_length'` to pad to a max length. In this case, you can give a specific length with `max_length` (e.g. `max_length=45`) or leave max_length to None to pad to the maximal input size of the model (e.g. 512 for Bert).\n",
      "  warnings.warn(\n",
      "/home/nameduser/.local/share/virtualenvs/babl-qoEDH0A2/lib/python3.10/site-packages/transformers/models/t5/tokenization_t5.py:289: UserWarning: This sequence already has </s>. In future versions this behavior may lead to duplicated eos tokens being added.\n",
      "  warnings.warn(\n",
      "100%|██████████| 4/4 [00:07<00:00,  1.89s/it]"
     ]
    },
    {
     "name": "stdout",
     "output_type": "stream",
     "text": [
      "train_dataset: \n",
      "Dataset(features: {'input_text': Value(dtype='string', id=None), 'target_text': Value(dtype='string', id=None), 'input_ids': Sequence(feature=Value(dtype='int64', id=None), length=-1, id=None), 'attention_mask': Sequence(feature=Value(dtype='int64', id=None), length=-1, id=None), 'target_ids': Sequence(feature=Value(dtype='int64', id=None), length=-1, id=None), 'target_attention_mask': Sequence(feature=Value(dtype='int64', id=None), length=-1, id=None)}, num_rows: 3194)\n"
     ]
    },
    {
     "name": "stderr",
     "output_type": "stream",
     "text": [
      "\n"
     ]
    }
   ],
   "source": [
    "from babl.model.T5.data import convert_to_features, build_dataset, T2TDataCollator\n",
    "\n",
    "from functools import partial \n",
    "from dataclasses import dataclass\n",
    "from pprint import pprint \n",
    "\n",
    "\n",
    "f = '/home/nameduser/Code/babl/inputs/10k.jsonl'\n",
    "ds = build_dataset(f)\n",
    "\n",
    "\n",
    "@dataclass\n",
    "class Args:\n",
    "    input_max_len : int = 512\n",
    "    output_max_len : int = 32\n",
    "    model_name_or_path: str = \"t5-small\"\n",
    "\n",
    "args = Args()\n",
    "\n",
    "txt2feats = partial(convert_to_features, args=args)\n",
    "# map convert_to_features batch wise\n",
    "ds = ds.map(txt2feats, batched=True)\n",
    "print(\"train_dataset: \")\n",
    "pprint(ds)\n",
    "# valid_dataset = valid_dataset.map(add_eos_to_examples, load_from_cache_file=False)\n",
    "\n",
    "\n",
    "# set the tensor type and the columns which the dataset should return\n",
    "columns = [\"input_ids\", \"target_ids\", \"attention_mask\", \"target_attention_mask\"]\n",
    "ds.set_format(type=\"torch\", columns=columns)\n"
   ]
  },
  {
   "cell_type": "code",
   "execution_count": 9,
   "metadata": {},
   "outputs": [
    {
     "name": "stderr",
     "output_type": "stream",
     "text": [
      "/tmp/ipykernel_1565776/4138220314.py:4: FutureWarning: You are using `torch.load` with `weights_only=False` (the current default value), which uses the default pickle module implicitly. It is possible to construct malicious pickle data which will execute arbitrary code during unpickling (See https://github.com/pytorch/pytorch/blob/main/SECURITY.md#untrusted-models for more details). In a future release, the default value for `weights_only` will be flipped to `True`. This limits the functions that could be executed during unpickling. Arbitrary objects will no longer be allowed to be loaded via this mode unless they are explicitly allowlisted by the user via `torch.serialization.add_safe_globals`. We recommend you start setting `weights_only=True` for any use case where you don't have full control of the loaded file. Please open an issue on GitHub for any issues related to this experimental feature.\n",
      "  vds  = torch.load('/home/nameduser/Code/babl/inputs/valid_data.pt')\n",
      "/tmp/ipykernel_1565776/4138220314.py:6: FutureWarning: You are using `torch.load` with `weights_only=False` (the current default value), which uses the default pickle module implicitly. It is possible to construct malicious pickle data which will execute arbitrary code during unpickling (See https://github.com/pytorch/pytorch/blob/main/SECURITY.md#untrusted-models for more details). In a future release, the default value for `weights_only` will be flipped to `True`. This limits the functions that could be executed during unpickling. Arbitrary objects will no longer be allowed to be loaded via this mode unless they are explicitly allowlisted by the user via `torch.serialization.add_safe_globals`. We recommend you start setting `weights_only=True` for any use case where you don't have full control of the loaded file. Please open an issue on GitHub for any issues related to this experimental feature.\n",
      "  tds  = torch.load('/home/nameduser/Code/babl/inputs/train_data.pt')\n"
     ]
    },
    {
     "data": {
      "text/plain": [
       "pyarrow.Table\n",
       "input_text: string\n",
       "target_text: string\n",
       "input_ids: list<item: int64>\n",
       "  child 0, item: int64\n",
       "attention_mask: list<item: int64>\n",
       "  child 0, item: int64\n",
       "target_ids: list<item: int64>\n",
       "  child 0, item: int64\n",
       "target_attention_mask: list<item: int64>\n",
       "  child 0, item: int64\n",
       "----\n",
       "input_text: [[\"question: who won icc award 2008 for twenty20 international performance of the year  context: <Ul> <Li> Cricketer of the Year : Shivnarine Chanderpaul ( West Indies ) </Li> <Li> Test Player of the Year : Dale Steyn ( South Africa ) </Li> <Li> ODI Player of the Year : MS Dhoni ( India ) </Li> <Li> Twenty20 International Performance of the Year : Yuvraj Singh ( India ) </Li> <Li> Emerging Player of the Year : Ajantha Mendis ( Sri Lanka ) </Li> <Li> Associate Player of the Year : Ryan ten Doeschate ( Netherlands ) </Li> <Li> Umpire of the Year : Simon Taufel ( Australia ) </Li> <Li> Women 's Cricketer of the Year : Charlotte Edwards ( England ) </Li> <Li> Spirit of Cricket : Sri Lanka </Li> <Li> World Test XI : Graeme Smith ( SA , captain ) , Virender Sehwag ( Ind ) , Mahela Jayawardene ( SL ) , Shivnarine Chanderpaul ( WI ) , Kevin Pietersen ( Eng ) , Jacques Kallis ( SA ) , Kumar Sangakkara ( SL , wicket - keeper ) , Brett Lee ( Aus ) , Ryan Sidebottom ( Eng ) , Dale Steyn ( SA ) , Muttiah Muralitharan ( SL ) , 12th man : Stuart Clark ( Aus ) </Li> <Li> World one - day XI : Herschelle Gibbs ( SA ) , Sachin Tendulkar ( Ind ) , Ricky Ponting ( Aus , captain ) , Ajantha Mendis ( SL ) , Farveez Maharoof ( SL ) , MS Dhoni ( Ind , wicket - keeper ) , Andrew Symonds ( Aus ) , Daniel Vettori ( NZ ) , Brett Lee ( Aus ) , Mitchell Johnson ( Aus ) , Nathan Bracken ( Aus ) , 12th man : Salman Butt ( Pak ) </Li> </Ul> </s>\",\"question: who won the most oscars of all time  context: <Ul> <Li> Most awards won by a single film <Ul> <Li> Three films have won 11 Academy Awards : <Ul> <Li> Ben - Hur ( 1959 ) -- 15 categories available for nomination ; nominated for 12 </Li> <Li> Titanic ( 1997 ) -- 17 categories available for nomination ; nominated for 14 </Li> <Li> The Lord of the Rings : The Return of the King ( 2003 ) -- 17 categories available for nomination ; nominated for 11 </Li> </Ul> </Li> </Ul> </Li> <Li> Most nominations received by a single film <Ul> <Li> Three films have received 14 nominations : <Ul> <Li> All About Eve ( 1950 ) -- 16 categories available for nomination ; won 6 awards </Li> <Li> Titanic ( 1997 ) -- 17 categories available for nomination ; won 11 awards </Li> <Li> La La Land ( 2016 ) -- 17 categories available for nomination ; won 6 awards </Li> </Ul> </Li> </Ul> </Li> <Li> Largest sweep ( winning awards in every nominated category ) <Ul> <Li> The Lord of the Rings : The Return of the King ( 2003 ) won all 11 categories for which it was nominated : Best Picture , Director , Adapted Screenplay , Original Score , Original Song , Sound Mixing , Art Direction , Makeup , Costume Design , Film Editing , and Visual Effects </Li> </Ul> </Li> <Li> Most awards won by an individual <Ul> <Li> Walt Disney won 22 Oscars . </Li> </Ul> </Li> <Li> Most awards won by a woman <Ul> <Li> Edith Head won eight Oscars , all for Costume Design </Li> </Ul> </Li> <Li> Most nominations in a single year / Most awards in a single year <Ul> <Li> In 1954 , Walt Disney won four awards out of six nominations , both records . He won Best Documentary , Features for The Living Desert ; Best Documentary , Short Subjects for The Alaskan Eskimo ; Best Short Subject , Cartoons for Toot Whistle Plunk and Boom ; and Best Short Subject , Two - reel for Bear Country . He had two additional nominations in Best Short Subject , Cartoons for Rugged Bear ; and Best Short Subject , Two - reel for Ben and Me . </Li> </Ul> </Li> <Li> Most awards won by a person who is still living <Ul> <Li> Visual Effects Supervisor Dennis Muren has won nine Academy Awards -- six competitive awards , two `` Special Achievement '' awards , and one `` Technical Achievement '' award </Li> </Ul> </Li> <Li> Most competitive awards won by a person who is still living <Ul> <Li> Composer Alan Menken has won eight competitive Academy Awards </Li> </Ul> </Li> <Li> Acting <Ul> <Li> Katharine Hepburn won four awards , all for Best Actress </Li> </Ul> </Li> <Li> Directing <Ul> <Li> John Ford won the most directing awards , with four </Li> </Ul> </Li> <Li> Cinematography <Ul> <Li> The highest number of Academy Awards won by a cinematographer is four : <Ul> <Li> Joseph Ruttenberg , in 1938 , 1942 , 1956 , and 1958 </Li> <Li> Leon Shamroy , in 1942 , 1944 , 1945 , and 1963 </Li> </Ul> </Li> </Ul> </Li> <Li> Art Direction <Ul> <Li> Cedric Gibbons , who designed the Oscar statuette , won 11 awards out of a total of 39 nominations . </Li> </Ul> </Li> <Li> Makeup <Ul> <Li> Rick Baker won seven Academy Awards ( all for Best Makeup ) </Li> </Ul> </Li> <Li> Most awards won by a country for Best Foreign Language Film <Ul> <Li> Italy won 14 awards in this category and received in total 32 nominations </Li> </Ul> </Li> <Li> Most nominations received by a country for Best Foreign Language Film <Ul> <Li> France received 40 nominations and won the award 12 times </Li> </Ul> </Li> <Li> Most awards won by a foreign - language film <Ul> <Li> Two foreign - language films have won four Academy Awards : <Ul> <Li> Fanny and Alexander ( 1982 ) won Best Foreign Language Film , Best Cinematography , Best Art Direction , and Best Costume Design </Li> <Li> Crouching Tiger , Hidden Dragon ( 2000 ) won Best Foreign Language Film , Best Art Direction , Best Original Score , and Best Cinematography </Li> </Ul> </Li> </Ul> </Li> <Li> Most nominations received by a foreign - language film <Ul> <Li> Crouching Tiger , Hidden Dragon ( 2000 ) received ten nominations : Best Foreign Language Film , Best Picture , Best Director , Best Adapted Screenplay , Best Original Song , Best Costume Design , Best Art Direction , Best Film Editing , Best Original Score , and Best Cinematography </Li> </Ul> </Li> </Ul> </s>\",\"question: what day does labor day fall on in 2018  context: <Tr> <Td> 1902 </Td> <Td> 1930 </Td> <Td> 1958 </Td> <Td> 1986 </Td> <Td> 2014 </Td> <Td> 2042 </Td> <Td> 2070 </Td> <Td> 2098 </Td> <Td> September 1 </Td> </Tr> </s>\",\"question: the ability of an atom to attract electron towards itself is called  context: <Li> Jump up ^ Electronegativity of francium was chosen by Pauling as 0.7 , close to that of caesium ( also assessed 0.7 at that point ) . The base value of hydrogen was later increased by 0.10 and caesium 's electronegativity was later refined to 0.79 ; however , no refinements have been made for francium as no experiment has been conducted and the old value was kept . However , francium is expected and , to a small extent , observed to be more electronegative than caesium . See francium for details . </Li> </s>\",\"question: who played the devil in storm of the century  context: <P> A very powerful blizzard hits the fictional small town of Little Tall Island ( also the setting of King 's novel Dolores Claiborne ) off the coast of Maine . The storm is so powerful that all access off the island is blocked , and no one is able to leave the island until the storm is over . While trying to deal with the storm , tragedy strikes when one of the town 's residents is brutally murdered by André Linoge ( Colm Feore ) , a menacing stranger who appears to know the town members ' darkest secrets , and who gives no hint of his motives other than the cryptic statement `` Give me what I want , and I 'll go away . '' </P> </s>\",...,\"question: who won man of match in 2011 world cup  context: <Table> 2011 Cricket World Cup Final <Tr> <Th> Event </Th> <Td> 2011 Cricket World Cup </Td> </Tr> <Tr> <Td_colspan=\"2\"> <Table> <Tr> <Th> Sri Lanka </Th> <Th> India </Th> </Tr> <Tr> <Th> </Th> <Th> </Th> </Tr> <Tr> <Th> 274 / 6 </Th> <Th> 277 / 4 </Th> </Tr> <Tr> <Th> 50 overs </Th> <Th> 48.2 overs </Th> </Tr> </Table> </Td> </Tr> <Tr> <Th> Date </Th> <Td> 2 April 2011 </Td> </Tr> <Tr> <Th> Venue </Th> <Td> Wankhede Stadium , Mumbai , India </Td> </Tr> <Tr> <Th> Player of the Match </Th> <Td> Mahendra Singh Dhoni ( Ind ) </Td> </Tr> <Tr> <Th> Umpires </Th> <Td> Simon Taufel and Aleem Dar </Td> </Tr> <Tr> <Th> Attendance </Th> <Td> 42,000 </Td> </Tr> <Tr> <Td_colspan=\"2\"> ← 2007 2015 → </Td> </Tr> </Table> </s>\",\"question: when was the last time the volcano erupted in tenerife  context: <P> If measured from the ocean floor , it is at 7,500 m ( 24,600 ft ) the highest volcano in the world base - to - peak outside of the Hawaiian Islands , and is described by UNESCO and NASA as Earth 's third - tallest volcanic structure . Teide 's elevation makes Tenerife the tenth highest island in the world . Teide is an active volcano : its most recent eruption occurred in 1909 from the El Chinyero vent on the northwestern Santiago rift . The United Nations Committee for Disaster Mitigation designated Teide a Decade Volcano because of its history of destructive eruptions and its proximity to several large towns , of which the closest are Garachico , Icod de los Vinos and Puerto de la Cruz . Teide , Pico Viejo and Montaña Blanca form the Central Volcanic Complex of Tenerife . </P> </s>\",\"question: where does tap water come from in london  context: <P> London has well developed water supply infrastructure . Most drinking water consumed in London comes from the River Thames and the River Lee . Approximately 70 % of all water supplied to London is taken from the Thames upstream of Teddington Weir . </P> </s>\",\"question: what is the oldest university in the philippines  context: <P> Note : The University of San Carlos traces its roots to the Colegio de San Ildefonso founded by the Spanish Jesuits fathers Antonio Sedeno , Pedro Chirino and Antonio Pereira in 1595 , thus claiming to be the oldest still existing school in Asia . USC celebrated its quadricentennial in 1995 . However , this claim is opposed by the Pontifical and Royal University of Santo Tomas , which argues that USC only took over the facility of the former Colegio de San Ildefonso and that there is no ' visible ' and ' clear ' link between San Carlos and San Ildefonso . </P> </s>\",\"question: in mythology son of ares bound to fiery wheel  context: <P> However , Zeus had pity on Ixion and brought him to Olympus and introduced him at the table of the gods . Instead of being grateful , Ixion grew lustful for Hera , Zeus 's wife , a further violation of guest - host relations . Zeus found out about his intentions and made a cloud in the shape of Hera , which became known as Nephele ( from nephos `` cloud '' ) and tricked Ixion into coupling with it . From the union of Ixion and the false - Hera cloud came Centauros , who mated with the Magnesian mares on Mount Pelion , Pindar told , engendering the race of Centaurs , who are called the Ixion from their descent . </P> </s>\"],[\"question: what is to all the boys ive loved before  context: <P> The novel spent 40 weeks on The New York Times Best Seller list in the Young Adult fiction section . It has been published in 30 languages . </P> </s>\",\"question: when was smoking banned in pubs in scotland  context: <P> The Act established that , from 26 March 2006 , it would be an offence to smoke in any wholly or substantially enclosed public space in Scotland , with a small number of exceptions , such as : prisons , care homes and police interview rooms . Private member clubs were not exempted . Hotel rooms could be designated by the proprietors as smoking rooms , but they were under no obligation to do so , and if they did not , the Act applied to them as any other space . </P> </s>\",\"question: who has the worst record in nfl football  context: <Table> <Tr> <Th> Rank </Th> <Th> Team </Th> <Th> Won </Th> <Th> Lost </Th> <Th> Tied </Th> <Th> Pct . </Th> <Th> First NFL Season </Th> <Th> Total Games </Th> <Th> Division </Th> </Tr> <Tr> <Td> </Td> <Td> Dallas Cowboys </Td> <Td> 502 </Td> <Td> 374 </Td> <Td> 6 </Td> <Td> . 573 </Td> <Td> 1960 </Td> <Td> 882 </Td> <Td> NFC East </Td> </Tr> <Tr> <Td> </Td> <Td> Green Bay Packers </Td> <Td> 737 </Td> <Td> 562 </Td> <Td> 37 </Td> <Td> . 565 </Td> <Td> 1921 </Td> <Td> 1,336 </Td> <Td> NFC North </Td> </Tr> <Tr> <Td> </Td> <Td> Chicago Bears </Td> <Td> 749 </Td> <Td> 579 </Td> <Td> 42 </Td> <Td> . 562 </Td> <Td> 1920 </Td> <Td> 1,370 </Td> <Td> NFC North </Td> </Tr> <Tr> <Td> </Td> <Td> Miami Dolphins </Td> <Td> 445 </Td> <Td> 351 </Td> <Td> </Td> <Td> . 559 </Td> <Td> 1966 </Td> <Td> 800 </Td> <Td> AFC East </Td> </Tr> <Tr> <Td> 5 </Td> <Td> New England Patriots </Td> <Td> 489 </Td> <Td> 386 </Td> <Td> 9 </Td> <Td> . 558 </Td> <Td> 1960 </Td> <Td> 884 </Td> <Td> AFC East </Td> </Tr> <Tr> <Td> 6 </Td> <Td> Minnesota Vikings </Td> <Td> 470 </Td> <Td> 390 </Td> <Td> 10 </Td> <Td> . 546 </Td> <Td> 1961 </Td> <Td> 870 </Td> <Td> NFC North </Td> </Tr> <Tr> <Td> 7 </Td> <Td> Baltimore Ravens </Td> <Td> 190 </Td> <Td> 161 </Td> <Td> </Td> <Td> . 541 </Td> <Td> </Td> <Td> 352 </Td> <Td> AFC North </Td> </Tr> <Tr> <Td> 8 </Td> <Td> New York Giants </Td> <Td> 687 </Td> <Td> 585 </Td> <Td> 33 </Td> <Td> . 539 </Td> <Td> 1925 </Td> <Td> 1,305 </Td> <Td> NFC East </Td> </Tr> <Tr> <Td> 9 </Td> <Td> Denver Broncos </Td> <Td> 470 </Td> <Td> 404 </Td> <Td> 10 </Td> <Td> . 537 </Td> <Td> 1960 </Td> <Td> 884 </Td> <Td> AFC West </Td> </Tr> <Tr> <Td> 10 </Td> <Td> San Francisco 49ers </Td> <Td> 528 </Td> <Td> 460 </Td> <Td> 14 </Td> <Td> . 534 </Td> <Td> 1950 </Td> <Td> 1,002 </Td> <Td> NFC West </Td> </Tr> <Tr> <Td> 11 </Td> <Td> Pittsburgh Steelers </Td> <Td> 614 </Td> <Td> 538 </Td> <Td> 20 </Td> <Td> . 532 </Td> <Td> 1933 </Td> <Td> 1,172 </Td> <Td> AFC North </Td> </Tr> <Tr> <Td> 12 </Td> <Td> Oakland Raiders </Td> <Td> 462 </Td> <Td> 411 </Td> <Td> 11 </Td> <Td> . 529 </Td> <Td> 1960 </Td> <Td> 884 </Td> <Td> AFC West </Td> </Tr> <Tr> <Td> 13 </Td> <Td> Indianapolis Colts </Td> <Td> 506 </Td> <Td> 453 </Td> <Td> 7 </Td> <Td> . 527 </Td> <Td> 1953 </Td> <Td> 966 </Td> <Td> AFC South </Td> </Tr> <Tr> <Td> 14 </Td> <Td> Kansas City Chiefs </Td> <Td> 457 </Td> <Td> 415 </Td> <Td> 12 </Td> <Td> . 524 </Td> <Td> 1960 </Td> <Td> 884 </Td> <Td> AFC West </Td> </Tr> <Tr> <Td> 15 </Td> <Td> Seattle Seahawks </Td> <Td> 334 </Td> <Td> 325 </Td> <Td> </Td> <Td> . 507 </Td> <Td> 1976 </Td> <Td> 660 </Td> <Td> NFC West </Td> </Tr> <Tr> <Td> 16 </Td> <Td> Washington Redskins </Td> <Td> 595 </Td> <Td> 581 </Td> <Td> 28 </Td> <Td> . 506 </Td> <Td> 1932 </Td> <Td> 1,202 </Td> <Td> NFC East </Td> </Tr> <Tr> <Td> 17 </Td> <Td> Carolina Panthers </Td> <Td> 183 </Td> <Td> 184 </Td> <Td> </Td> <Td> . 499 </Td> <Td> 1995 </Td> <Td> 368 </Td> <Td> NFC South </Td> </Tr> <Tr> <Td> 18 </Td> <Td> Los Angeles Chargers </Td> <Td> 435 </Td> <Td> 438 </Td> <Td> 11 </Td> <Td> . 498 </Td> <Td> 1960 </Td> <Td> 884 </Td> <Td> AFC West </Td> </Tr> <Tr> <Td> 19 </Td> <Td> Los Angeles Rams </Td> <Td> 555 </Td> <Td> 559 </Td> <Td> 21 </Td> <Td> . 498 </Td> <Td> 1937 </Td> <Td> 1,135 </Td> <Td> NFC West </Td> </Tr> <Tr> <Td> 20 </Td> <Td> Cleveland Browns </Td> <Td> 462 </Td> <Td> 482 </Td> <Td> 10 </Td> <Td> . 490 </Td> <Td> 1950 </Td> <Td> 954 </Td> <Td> AFC North </Td> </Tr> <Tr> <Td> 21 </Td> <Td> Philadelphia Eagles </Td> <Td> 568 </Td> <Td> 594 </Td> <Td> 26 </Td> <Td> . 489 </Td> <Td> 1933 </Td> <Td> 1,188 </Td> <Td> NFC East </Td> </Tr> <Tr> <Td> 22 </Td> <Td> Tennessee Titans </Td> <Td> 422 </Td> <Td> 456 </Td> <Td> 6 </Td> <Td> . 481 </Td> <Td> 1960 </Td> <Td> 884 </Td> <Td> AFC South </Td> </Tr> <Tr> <Td> 23 </Td> <Td> Buffalo Bills </Td> <Td> 409 </Td> <Td> 467 </Td> <Td> 8 </Td> <Td> . 467 </Td> <Td> 1960 </Td> <Td> 884 </Td> <Td> AFC East </Td> </Tr> <Tr> <Td> 24 </Td> <Td> Detroit Lions </Td> <Td> 553 </Td> <Td> 648 </Td> <Td> 32 </Td> <Td> . 461 </Td> <Td> 1930 </Td> <Td> 1,233 </Td> <Td> NFC North </Td> </Tr> <Tr> <Td> 25 </Td> <Td> Cincinnati Bengals </Td> <Td> 351 </Td> <Td> 417 </Td> <Td> </Td> <Td> . 457 </Td> <Td> 1968 </Td> <Td> 772 </Td> <Td> AFC North </Td> </Tr> <Tr> <Td> 26 </Td> <Td> New York Jets </Td> <Td> 397 </Td> <Td> 479 </Td> <Td> 8 </Td> <Td> . 454 </Td> <Td> 1960 </Td> <Td> 884 </Td> <Td> AFC East </Td> </Tr> <Tr> <Td> 27 </Td> <Td> Jacksonville Jaguars </Td> <Td> 165 </Td> <Td> 203 </Td> <Td> 0 </Td> <Td> . 448 </Td> <Td> 1995 </Td> <Td> 368 </Td> <Td> AFC South </Td> </Tr> <Tr> <Td> 28 </Td> <Td> New Orleans Saints </Td> <Td> 349 </Td> <Td> 432 </Td> <Td> 5 </Td> <Td> . 447 </Td> <Td> 1967 </Td> <Td> 786 </Td> <Td> NFC South </Td> </Tr> <Tr> <Td> 29 </Td> <Td> Atlanta Falcons </Td> <Td> 351 </Td> <Td> 443 </Td> <Td> 6 </Td> <Td> . 443 </Td> <Td> 1966 </Td> <Td> 790 </Td> <Td> NFC South </Td> </Tr> <Tr> <Td> 30 </Td> <Td> Houston Texans </Td> <Td> 110 </Td> <Td> 146 </Td> <Td> 0 </Td> <Td> . 430 </Td> <Td> 2002 </Td> <Td> 256 </Td> <Td> AFC South </Td> </Tr> <Tr> <Td> 31 </Td> <Td> Arizona Cardinals </Td> <Td> 550 </Td> <Td> 740 </Td> <Td> 40 </Td> <Td> . 429 </Td> <Td> 1920 </Td> <Td> 1,330 </Td> <Td> NFC West </Td> </Tr> <Tr> <Td> 32 </Td> <Td> Tampa Bay Buccaneers </Td> <Td> 255 </Td> <Td> 404 </Td> <Td> </Td> <Td> . 387 </Td> <Td> 1976 </Td> <Td> 660 </Td> <Td> NFC South </Td> </Tr> </Table> </s>\",\"question: who is called the father of educational psychology  context: <P> Johann Herbart ( 1776 -- 1841 ) is considered the father of educational psychology . He believed that learning was influenced by interest in the subject and the teacher . He thought that teachers should consider the students ' existing mental sets -- what they already know -- when presenting new information or material . Herbart came up with what are now known as the formal steps . The 5 steps that teachers should use are : </P> </s>\",\"question: when was the last time china had the olympics  context: <Table> <Tr> <Th> Games </Th> <Th> Host city </Th> <Th> Dates </Th> <Th> Nations </Th> <Th> Participants </Th> <Th> Events </Th> </Tr> <Tr> <Td> 2008 Summer Olympics </Td> <Td> Beijing </Td> <Td> 8 -- 24 August </Td> <Td> 204 </Td> <Td> 10,942 </Td> <Td> 302 </Td> </Tr> <Tr> <Td> 2022 Winter Olympics </Td> <Td> Beijing </Td> <Td> 4 -- 20 February </Td> <Td> </Td> <Td> </Td> <Td> </Td> </Tr> </Table> </s>\",...,\"question: who plays jim in season 3 of trollhunters  context: <Li> Anton Yelchin and Emile Hirsch as James `` Jim '' Lake Jr . / Trollhunter , the first human Trollhunter and a reluctant hero dealing with the pressures of leading a double life . He has a talent for cooking and eventually sword - fighting , and cares deeply for his mother and friends . Yelchin provided the voice for Jim from Part 1 , through portions of Part 3 before he passed away . Hirsch assumed the role following Yelchin 's passing . </Li> </s>\",\"question: who is the original singer of devil went down to georgia  context: <P> `` The Devil Went Down to Georgia '' is a song written and performed by the Charlie Daniels Band and released on their 1979 album Million Mile Reflections . </P> </s>\",\"question: who are the actresses that play liv and maddie  context: <Ul> <Li> Dove Cameron as Liv and Maddie Rooney </Li> <Li> Joey Bragg as Joey Rooney </Li> <Li> Tenzing Norgay Trainor as Parker Rooney </Li> <Li> Kali Rocha as Karen Rooney </Li> <Li> Benjamin King as Pete Rooney ( seasons 1 -- 3 ) </Li> <Li> Lauren Lindsey Donzis as Ruby ( season 4 ) </Li> </Ul> </s>\",\"question: what is the name of the reindeer coach in rudolph  context: <Li> Paul Kligman voices : <Ul> <Li> Donner , Rudolph 's father and Santa 's most prized reindeer . While he loves and accepts Rudolph , he shows great concern that society will reject him for his nose and tries to protect him by creating a nose cover . </Li> <Li> Comet , head coach of the Reindeer Games . </Li> <Li> Clarice 's unnamed father , who forbids Clarice from shaming the family by associating with a red - nosed reindeer . </Li> </Ul> </Li> </s>\",\"question: who is hosting the 2018 american music awards  context: <Tr> <Td> <Ul> <Li> Daddy Yankee <Ul> <Li> J Balvin </Li> <Li> Ozuna </Li> </Ul> </Li> </Ul> </Td> <Td> <Ul> <Li> Lauren Daigle <Ul> <Li> MercyMe </Li> <Li> Zach Williams </Li> </Ul> </Li> </Ul> </Td> </Tr> </s>\"],[\"question: when does the new season of brooklyn nine-nine air  context: <Table> <Tr> <Th_colspan=\"2\"> Season </Th> <Th_colspan=\"2\"> Episodes </Th> <Th_colspan=\"2\"> Originally aired </Th> </Tr> <Tr> <Th> First aired </Th> <Th> Last aired </Th> </Tr> <Tr> <Td> </Td> <Td_colspan=\"1\"> </Td> <Td_colspan=\"2\"> 22 </Td> <Td_colspan=\"1\"> September 17 , 2013 ( 2013 - 09 - 17 ) </Td> <Td> March 25 , 2014 ( 2014 - 03 - 25 ) </Td> </Tr> <Tr> <Td> </Td> <Td_colspan=\"1\"> </Td> <Td_colspan=\"2\"> 23 </Td> <Td_colspan=\"1\"> September 28 , 2014 ( 2014 - 09 - 28 ) </Td> <Td> May 17 , 2015 ( 2015 - 05 - 17 ) </Td> </Tr> <Tr> <Td> </Td> <Td_colspan=\"1\"> </Td> <Td_colspan=\"2\"> 23 </Td> <Td_colspan=\"1\"> September 27 , 2015 ( 2015 - 09 - 27 ) </Td> <Td> April 19 , 2016 ( 2016 - 04 - 19 ) </Td> </Tr> <Tr> <Td> </Td> <Td_colspan=\"1\"> </Td> <Td_colspan=\"2\"> 22 </Td> <Td_colspan=\"1\"> September 20 , 2016 ( 2016 - 09 - 20 ) </Td> <Td> May 23 , 2017 ( 2017 - 05 - 23 ) </Td> </Tr> <Tr> <Td> </Td> <Td_colspan=\"1\"> 5 </Td> <Td_colspan=\"2\"> 22 </Td> <Td_colspan=\"1\"> September 26 , 2017 ( 2017 - 09 - 26 ) </Td> <Td> May 20 , 2018 ( 2018 - 05 - 20 ) </Td> </Tr> </Table> </s>\",\"question: who sang in the super bowl halftime last year  context: <Table> <Tr> <Th> Super Bowl </Th> <Th> Show details </Th> </Tr> <Tr> <Td> XLIV </Td> <Td> <Ul> <Li> Date : Feb 7 , 2010 </Li> <Li> Location : Sun Life Stadium ( Miami Gardens , Florida ) </Li> <Li> Performer : The Who </Li> <Li> Producer : White Cherry Entertainment </Li> <Li> Sponsor : Bridgestone </Li> <Li> References : </Li> <Li> Setlist : <Ul> <Li> `` Pinball Wizard '' </Li> <Li> `` Baba O'Riley '' </Li> <Li> `` Who Are You '' </Li> <Li> `` See Me , Feel Me '' </Li> <Li> `` Wo n't Get Fooled Again '' </Li> </Ul> </Li> </Ul> </Td> </Tr> <Tr> <Td> XLV </Td> <Td> <Ul> <Li> Date : Feb 6 , 2011 </Li> <Li> Location : Cowboys Stadium ( Arlington , Texas ) </Li> <Li> Performers : The Black Eyed Peas , Usher , Slash , Dallas / Ft . Worth - area area high school drill teams and dancers </Li> <Li> Producer : Ricky Kirshner </Li> <Li> Sponsor : Bridgestone </Li> <Li> References : </Li> <Li> Setlist : <Ul> <Li> `` I Gotta Feeling '' ( The Black Eyed Peas ) </Li> <Li> `` Boom Boom Pow '' ( The Black Eyed Peas ) </Li> <Li> `` Sweet Child O ' Mine '' ( Slash & Fergie ) </Li> <Li> `` Pump It '' ( The Black Eyed Peas ) </Li> <Li> `` Let 's Get It Started '' ( The Black Eyed Peas ) </Li> <Li> `` OMG '' ( Usher & will.i.am ) </Li> <Li> `` Where Is The Love ? '' ( The Black Eyed Peas ) </Li> <Li> `` The Time ( Dirty Bit ) '' with `` I Gotta Feeling '' reprise ( The Black Eyed Peas ) </Li> </Ul> </Li> </Ul> </Td> </Tr> <Tr> <Td> XLVI </Td> <Td> Main article : Super Bowl XLVI halftime show <Ul> <Li> Date : Feb 5 , 2012 </Li> <Li> Location : Lucas Oil Stadium ( Indianapolis , Indiana ) </Li> <Li> Performers : Madonna , LMFAO , Cirque du Soleil , Nicki Minaj , M.I.A. , Cee Lo Green , Andy Lewis , Avon High School Drumline , Center Grove High School Drumline , Fishers High School Drumline , Franklin Central High School Drumline , Southern University Dancing Dolls , 200 Person Choir consisting of Indianapolis locals </Li> <Li> Producer : Ricky Kirshner </Li> <Li> Sponsor : Bridgestone </Li> <Li> Setlist : <Ul> <Li> `` Vogue '' ( Madonna ) </Li> <Li> `` Music '' / `` Party Rock Anthem '' / `` Sexy and I Know It '' ( Madonna with LMFAO ) </Li> <Li> `` Give Me All Your Luvin ' '' ( Madonna with Nicki Minaj and M.I.A. ) </Li> <Li> `` Open Your Heart '' / `` Express Yourself '' ( Madonna with Cee Lo Green ) </Li> <Li> `` Like a Prayer '' ( Madonna with Cee Lo Green ) </Li> </Ul> </Li> </Ul> </Td> </Tr> <Tr> <Td> XLVII </Td> <Td> Main article : Super Bowl XLVII halftime show <Ul> <Li> Date : Feb 3 , 2013 </Li> <Li> Location : Mercedes - Benz Superdome ( New Orleans , Louisiana ) </Li> <Li> Performers : Beyoncé , Destiny 's Child </Li> <Li> Producer : Ricky Kirshner </Li> <Li> Director : Hamish Hamilton </Li> <Li> Sponsor : Pepsi </Li> <Li> References : </Li> <Li> Setlist : <Ul> <Li> `` Run The World ( Girls ) '' ( Intro ) / Vince Lombardi `` Excellence '' speech voiceover </Li> <Li> `` Love on Top '' ( chorus a cappella ) ( Beyoncé ) </Li> <Li> `` Crazy in Love '' ( Beyoncé ) </Li> <Li> `` End of Time '' ( Beyoncé ) </Li> <Li> `` Baby Boy '' ( Beyoncé ) </Li> <Li> `` Bootylicious '' ( Destiny 's Child ) </Li> <Li> `` Independent Women Part I '' ( Destiny 's Child ) </Li> <Li> `` Single Ladies ( Put a Ring on It ) '' ( Beyoncé featuring Kelly Rowland and Michelle Williams ) </Li> <Li> `` Halo '' ( Beyoncé ) </Li> </Ul> </Li> </Ul> </Td> </Tr> <Tr> <Td> XLVIII </Td> <Td> Main article : Super Bowl XLVIII halftime show <Ul> <Li> Date : Feb 2 , 2014 </Li> <Li> Location : MetLife Stadium ( East Rutherford , New Jersey ) </Li> <Li> Performers : Bruno Mars , Red Hot Chili Peppers </Li> <Li> Producer : Ricky Kirshner </Li> <Li> Director : Hamish Hamilton </Li> <Li> Sponsor : Pepsi </Li> <Li> References : </Li> <Li> Setlist : <Ul> <Li> `` Billionaire '' ( Intro ) ( children 's choir ) </Li> <Li> `` Locked Out of Heaven '' ( Bruno Mars ) </Li> <Li> `` Treasure '' ( Bruno Mars ) </Li> <Li> `` Runaway Baby '' ( Bruno Mars ) </Li> <Li> `` Give It Away '' ( Red Hot Chili Peppers with Bruno Mars ) </Li> <Li> `` Just the Way You Are '' ( Bruno Mars ) </Li> </Ul> </Li> </Ul> </Td> </Tr> <Tr> <Td> XLIX </Td> <Td> Main article : Super Bowl XLIX halftime show <Ul> <Li> Date : Feb 1 , 2015 </Li> <Li> Location : University of Phoenix Stadium ( Glendale , Arizona ) </Li> <Li> Performers : Katy Perry , Lenny Kravitz , Missy Elliott , and Arizona State University Sun Devil Marching Band </Li> <Li> Producer : Ricky Kirshner </Li> <Li> Director : Hamish Hamilton </Li> <Li> Sponsor : Pepsi </Li> <Li> References : </Li> <Li> Setlist : <Ul> <Li> `` Roar '' ( Katy Perry ) </Li> <Li> `` Dark Horse '' ( Katy Perry ) </Li> <Li> `` I Kissed a Girl '' ( Lenny Kravitz and Katy Perry ) </Li> <Li> `` Teenage Dream '' ( Katy Perry ) </Li> <Li> `` California Gurls '' ( Katy Perry ) </Li> <Li> `` Get Ur Freak On '' ( Missy Elliott and Katy Perry ) </Li> <Li> `` Work It '' ( Missy Elliott and Katy Perry ) </Li> <Li> `` Lose Control '' ( Missy Elliott ) </Li> <Li> `` Firework '' ( Katy Perry ) </Li> </Ul> </Li> </Ul> </Td> </Tr> <Tr> <Td> 50 </Td> <Td> Main article : Super Bowl 50 halftime show <Ul> <Li> Date : Feb 7 , 2016 </Li> <Li> Location : Levi 's Stadium ( Santa Clara , California ) </Li> <Li> Performers : Coldplay , Beyoncé , Bruno Mars , Mark Ronson , Gustavo Dudamel , University of California Marching Band and Youth Orchestra L.A. </Li> <Li> Producer : Ricky Kirshner </Li> <Li> Director : Hamish Hamilton </Li> <Li> Sponsor : Pepsi </Li> <Li> References : </Li> <Li> Setlist : <Ul> <Li> `` Yellow '' ( intro a cappella ) ( Coldplay ) </Li> <Li> `` Viva la Vida '' ( Coldplay ) </Li> <Li> `` Paradise '' ( Coldplay ) </Li> <Li> `` Adventure of a Lifetime '' ( Coldplay ) </Li> <Li> `` Uptown Funk '' ( Mark Ronson & Bruno Mars ) </Li> <Li> `` Formation '' ( Beyoncé ) </Li> <Li> `` Crazy In Love '' / `` Uptown Funk '' ( Beyoncé , Bruno Mars ) </Li> <Li> `` Clocks '' ( instrumental ) ( Coldplay ) </Li> <Li> `` Fix You '' / `` Up & Up '' ( Coldplay , Beyoncé and Bruno Mars ) </Li> </Ul> </Li> </Ul> </Td> </Tr> <Tr> <Td> LI </Td> <Td> Main article : Super Bowl LI halftime show <Ul> <Li> Date : Feb 5 , 2017 </Li> <Li> Location : NRG Stadium ( Houston , Texas ) </Li> <Li> Performer : Lady Gaga </Li> <Li> Producer : Ricky Kirshner </Li> <Li> Director : Hamish Hamilton </Li> <Li> Sponsor : Pepsi Zero Sugar </Li> <Li> References : </Li> <Li> Setlist : <Ul> <Li> `` God Bless America '' / `` This Land Is Your Land '' </Li> <Li> `` Poker Face '' </Li> <Li> `` Born This Way '' </Li> <Li> `` Telephone '' </Li> <Li> `` Just Dance '' </Li> <Li> `` Million Reasons '' </Li> <Li> `` Bad Romance '' </Li> </Ul> </Li> </Ul> </Td> </Tr> <Tr> <Td> LII </Td> <Td> Main article : Super Bowl LII halftime show <Ul> <Li> Date : Feb 4 , 2018 </Li> <Li> Location : U.S. Bank Stadium ( Minneapolis , Minnesota ) </Li> <Li> Performer : Justin Timberlake and the Tennessee Kids , University of Minnesota Marching Band </Li> <Li> Producer : Ricky Kirshner </Li> <Li> Director : Hamish Hamilton </Li> <Li> Sponsor : Pepsi </Li> <Li> References : </Li> <Li> Setlist : <Ul> <Li> `` Filthy '' </Li> <Li> `` Rock Your Body '' </Li> <Li> `` Señorita '' </Li> <Li> `` SexyBack '' </Li> <Li> `` My Love '' </Li> <Li> `` Cry Me a River '' </Li> <Li> `` Suit & Tie '' ( Featuring the University of Minnesota Marching Band ) </Li> <Li> `` Until the End of Time '' </Li> <Li> `` I Would Die 4 U '' ( Pre-recorded video of Prince ( displayed on a projection screen ) with Justin Timberlake ) </Li> <Li> `` Mirrors '' </Li> <Li> `` Ca n't Stop the Feeling ! '' </Li> </Ul> </Li> </Ul> </Td> </Tr> </Table> </s>\",\"question: what is the last movie eddie murphy made  context: <Tr> <Td> </Td> <Td> Boomerang </Td> <Td> Marcus Graham </Td> <Td> Also writer ( story ) Nominated -- MTV Movie Award for Best Comedic Performance </Td> </Tr> </s>\",\"question: when is the next lts release of ubuntu  context: <P> Ubuntu 18.04 Bionic Beaver is a long term support version and will be released on 26 April 2018 . </P> </s>\",\"question: who is the actor that played perry mason  context: <Tr> <Td> 1968 </Td> <Td> American Gallery , An An American Gallery </Td> <Td> Narrator </Td> <Td> `` Portrait of a Photographer '' </Td> </Tr> </s>\",...,\"question: when do they stop serving pumpkin spice latte  context: <P> The Pumpkin Spice Latte is a coffee drink made with a mix of traditional fall spice flavors ( cinnamon , nutmeg , and clove ) , steamed milk , and espresso , topped with whipped cream and pumpkin pie spice . Since 2015 , it has also contained a small amount of pumpkin puree . The drink is offered by Starbucks and many other cafés on a seasonal basis , usually being introduced on the first of September -- though in 2014 the drink was introduced a week earlier on August 25 -- and usually , depending on the store , will end sometime around the end of December . </P> </s>\",\"question: what is it called when you mix up the letters of a word  context: <P> Dyslexia is a disorder characterized by problems with the visual notation of speech , which in most languages of European origin are problems with alphabet writing systems which have a phonetic construction . </P> </s>\",\"question: what is song house of the rising sun about  context: <P> `` The House of the Rising Sun '' is a traditional folk song , sometimes called `` Rising Sun Blues '' . It tells of a life gone wrong in New Orleans ; many versions also urge a sibling to avoid the same fate . The most successful commercial version , recorded in 1964 by British rock group the Animals , was a number one hit on the UK Singles Chart and also in the United States and France . As a traditional folk song recorded by an electric rock band , it has been described as the `` first folk - rock hit '' . </P> </s>\",\"question: the encoding and analysis of visual information first begins within the neural layers of the  context: <P> Visual information coming from the eye goes through the lateral geniculate nucleus in the thalamus and then reaches the visual cortex . The part of the visual cortex that receives the sensory inputs from the thalamus is the primary visual cortex , also known as visual area 1 ( V1 ) , and the striate cortex . The extrastriate areas consist of visual areas 2 ( V2 ) , 3 ( V3 ) , 4 ( V4 ) , and 5 ( V5 ) . </P> </s>\",\"question: an economic alliance of most german states in 1834  context: <Tr> <Td> 1851 </Td> <Td> September 7 : Hanover joins the Zollverein . </Td> </Tr> </s>\"],[\"question: what episode does erin start in the office  context: <P> Initially , Dwight and Andy compete for her attention , but Dwight withdraws in acknowledgment of his new friendship with Andy . For the remainder of the season , Andy awkwardly flirts with Erin . </P> </s>\",\"question: when was trigonometry first thought to be used  context: <P> The modern word `` sine '' is derived from the Latin word sinus , which means `` bay '' , `` bosom '' or `` fold '' , translating Arabic jayb . The Arabic term is in origin a corruption of Sanskrit jīvā , or `` chord '' . Sanskrit jīvā in learned usage was a synonym of jyā `` chord '' , originally the term for `` bow - string '' . Sanskrit jīvā was rendered into Arabic as jiba . This term was then transformed into the genuine Arabic word jayb , meaning `` bosom , fold , bay '' , either by the Arabs or by a mistake of the European translators such as Robert of Chester ( perhaps because the words were written without vowels ) , who translated jayb into Latin as sinus . Particularly Fibonacci 's sinus rectus arcus proved influential in establishing the term sinus . The words `` minute '' and `` second '' are derived from the Latin phrases partes minutae primae and partes minutae secundae . These roughly translate to `` first small parts '' and `` second small parts '' . </P> </s>\",\"question: who led the army that defeated the aztecs  context: <P> Cortés 's conquest has been depicted in numerous television documentaries . These include in an episode of Engineering an Empire as well as in the BBC series Heroes and Villains , with Cortés being portrayed by Brian McCardie . </P> </s>\",\"question: when did america go to war with france  context: <Li> Reduction in French privateer attacks on American shipping </Li> </s>\",\"question: who ruled egypt at the time of the french invasion  context: <Tr> <Th> Part of a series on the </Th> </Tr> </s>\",...,\"question: where did the battle of stoney creek take place  context: <P> Killed in action at the Battle of Stoney Creek , 6 June 1813 ( as listed on the Stoney Creek Battlefield Monument ) : Samuel Hooker , Joseph Hunt , James Daig , Thomas Fearnsides , Richard Hugill , George Longley , Laurence Mead , John Regler , John Wale , Charles Page , James Adams , Alexander Brown , Michael Burke , Henry Carroll , Nathaniel Catlin , Martin Curley , Martin Donnolly , Peter Henley , John Hostler , Edward Killoran , Edward Little , Patrick Martin , John Maxwell . The names of the American dead are not recorded . </P> </s>\",\"question: who is the song missing you by diana ross about  context: <Li> Infinite 's `` Gotta Get Mine ; '' and </Li> </s>\",\"question: who wrote a good year for the roses  context: <P> `` A Good Year for the Roses '' is a ballad written by Jerry Chesnut and originally recorded by American country singer George Jones . It rose to # 2 on the country singles chart in 1970 . </P> </s>\",\"question: when did the first apple ipod come out  context: <P> The iPod is a line of portable media players and multi-purpose pocket computers designed and marketed by Apple Inc . The first version was released on October 23 , 2001 , about 8 ⁄ months after the Macintosh version of iTunes was released . The most recent iPod redesigns were announced on July 15 , 2015 . As of July 27 , 2017 , Apple has discontinued manufacturing all models except for the iPod Touch . </P> </s>\",\"question: how many episodes are in a season of once upon a time  context: <Tr> <Th> 30 </Th> <Td> 8 </Td> <Td> `` Into the Deep '' </Td> <Td> Ron Underwood </Td> <Td> Kalinda Vazquez & Daniel T. Thomsen </Td> <Td> November 25 , 2012 ( 2012 - 11 - 25 ) </Td> <Td> 8.82 </Td> </Tr> </s>\"]]\n",
       "target_text: [[\"Yuvraj Singh ( India )\",\"Walt Disney\",\"None </s>\",\"None </s>\",\"Colm Feore\",...,\"Mahendra Singh Dhoni ( Ind )\",\"1909\",\"River Thames and the River Lee\",\"None </s>\",\"None </s>\"],[\"None </s>\",\"26 March 2006\",\"Tampa Bay Buccaneers\",\"Johann Herbart\",\"2008\",...,\"Emile Hirsch\",\"the Charlie Daniels Band\",\"Dove Cameron\",\"Comet\",\"None </s>\"],[\"September 26 , 2017\",\"Lady Gaga\",\"None </s>\",\"26 April 2018\",\"None </s>\",...,\"depending on the store , will end sometime around the end of December\",\"Dyslexia\",\"life gone wrong in New Orleans ; many versions also urge a sibling to avoid the same fate\",\"thalamus\",\"None </s>\"],[\"None </s>\",\"None </s>\",\"None </s>\",\"None </s>\",\"None </s>\",...,\"None </s>\",\"None </s>\",\"Jerry Chesnut\",\"October 23 , 2001\",\"None </s>\"]]\n",
       "input_ids: [[[822,10,113,751,3,...,8233,13,8,2929,1],[822,10,113,751,8,...,23,3155,37,2809,1],...,[822,10,125,19,8,...,84,3,27442,24,1],[822,10,16,9735,1863,...,45,3,29,15,1]],[[822,10,125,19,12,...,0,0,0,0,0],[822,10,116,47,10257,...,6,8,1983,2930,1],...,[822,10,125,19,8,...,5880,3,5,3,1],[822,10,113,19,4434,...,15,3,2,87,1]],[[822,10,116,405,8,...,87,382,52,3155,1],[822,10,113,9965,16,...,23,3155,3,2,1],...,[822,10,8,3,35,...,220,41,584,519,1],[822,10,46,1456,15454,...,0,0,0,0,0]],[[822,10,125,5640,405,...,0,0,0,0,0],[822,10,116,47,6467,...,2,20513,3,31,1],...,[822,10,116,410,8,...,0,0,0,0,0],[822,10,149,186,13562,...,944,3,61,3,1]]]\n",
       "attention_mask: [[[1,1,1,1,1,...,1,1,1,1,1],[1,1,1,1,1,...,1,1,1,1,1],...,[1,1,1,1,1,...,1,1,1,1,1],[1,1,1,1,1,...,1,1,1,1,1]],[[1,1,1,1,1,...,0,0,0,0,0],[1,1,1,1,1,...,1,1,1,1,1],...,[1,1,1,1,1,...,1,1,1,1,1],[1,1,1,1,1,...,1,1,1,1,1]],[[1,1,1,1,1,...,1,1,1,1,1],[1,1,1,1,1,...,1,1,1,1,1],...,[1,1,1,1,1,...,1,1,1,1,1],[1,1,1,1,1,...,0,0,0,0,0]],[[1,1,1,1,1,...,0,0,0,0,0],[1,1,1,1,1,...,1,1,1,1,1],...,[1,1,1,1,1,...,0,0,0,0,0],[1,1,1,1,1,...,1,1,1,1,1]]]\n",
       "target_ids: [[[6214,208,9655,16738,41,...,0,0,0,0,0],[14591,6118,1,0,0,...,0,0,0,0,0],...,[14794,1,0,0,0,...,0,0,0,0,0],[14794,1,0,0,0,...,0,0,0,0,0]],[[14794,1,0,0,0,...,0,0,0,0,0],[2208,1332,3581,1,0,...,0,0,0,0,0],...,[4589,17,1,0,0,...,0,0,0,0,0],[14794,1,0,0,0,...,0,0,0,0,0]],[[1600,2208,3,6,1233,...,0,0,0,0,0],[8571,350,4711,1,0,...,0,0,0,0,0],...,[3,13958,9,3252,1,...,0,0,0,0,0],[14794,1,0,0,0,...,0,0,0,0,0]],[[14794,1,0,0,0,...,0,0,0,0,0],[14794,1,0,0,0,...,0,0,0,0,0],...,[1797,1902,3,6,4402,...,0,0,0,0,0],[14794,1,0,0,0,...,0,0,0,0,0]]]\n",
       "target_attention_mask: [[[1,1,1,1,1,...,0,0,0,0,0],[1,1,1,0,0,...,0,0,0,0,0],...,[1,1,0,0,0,...,0,0,0,0,0],[1,1,0,0,0,...,0,0,0,0,0]],[[1,1,0,0,0,...,0,0,0,0,0],[1,1,1,1,0,...,0,0,0,0,0],...,[1,1,1,0,0,...,0,0,0,0,0],[1,1,0,0,0,...,0,0,0,0,0]],[[1,1,1,1,1,...,0,0,0,0,0],[1,1,1,1,0,...,0,0,0,0,0],...,[1,1,1,1,1,...,0,0,0,0,0],[1,1,0,0,0,...,0,0,0,0,0]],[[1,1,0,0,0,...,0,0,0,0,0],[1,1,0,0,0,...,0,0,0,0,0],...,[1,1,1,1,1,...,0,0,0,0,0],[1,1,0,0,0,...,0,0,0,0,0]]]"
      ]
     },
     "execution_count": 9,
     "metadata": {},
     "output_type": "execute_result"
    }
   ],
   "source": [
    "# dir(ds)\n",
    "import torch \n",
    "\n",
    "vds  = torch.load('/home/nameduser/Code/babl/inputs/valid_data.pt')\n",
    "\n",
    "tds  = torch.load('/home/nameduser/Code/babl/inputs/train_data.pt')\n",
    "\n",
    "vds.data"
   ]
  },
  {
   "cell_type": "code",
   "execution_count": 19,
   "metadata": {},
   "outputs": [
    {
     "name": "stdout",
     "output_type": "stream",
     "text": [
      "\n",
      "Collator:\n",
      " dict_keys(['input_ids', 'attention_mask', 'target_ids', 'target_attention_mask'])\n",
      "\n",
      "\n",
      "Collator:\n",
      " dict_keys(['input_ids', 'attention_mask', 'target_ids', 'target_attention_mask'])\n",
      "\n"
     ]
    }
   ],
   "source": [
    "tdl = T2TDataCollator()(tds)# .info\n",
    "vdl= T2TDataCollator()(vds)"
   ]
  },
  {
   "cell_type": "code",
   "execution_count": 79,
   "metadata": {},
   "outputs": [
    {
     "name": "stdout",
     "output_type": "stream",
     "text": [
      "t5-small\n"
     ]
    }
   ],
   "source": [
    "from argparse import ArgumentParser\n",
    "from pathlib import Path \n",
    "\n",
    "\n",
    "parser = ArgumentParser()\n",
    "\n",
    "\n",
    "\n",
    "parser.add_argument('--input-max-len', default=128)\n",
    "parser.add_argument('--model-name-or-path', default='t5-small')\n",
    "parser.add_argument('--output-max-len', default=32)\n",
    "\n",
    "\n",
    "model_name = [a.default  for a in parser._actions if \"model-name-or-path\" in \"\".join(a.option_strings)][0]\n",
    "\n",
    "print(model_name)\n",
    "# parser._actions[0].option_strings\n",
    "# root = Path(__file__).parent.parent\n",
    "# output_dir = root / \"outputs\"\n",
    "# input_dir = root / \"inputs\"\n",
    "# parser.add_argument('--output-dir', default=output_dir)\n",
    "# parser.add_argument('--input-dir', default=input_dir)\n",
    "# parser.add_argument(\"--root-dir\", default=root)"
   ]
  },
  {
   "cell_type": "markdown",
   "metadata": {},
   "source": [
    "## Loading BERT"
   ]
  },
  {
   "cell_type": "code",
   "execution_count": 1,
   "metadata": {},
   "outputs": [
    {
     "name": "stderr",
     "output_type": "stream",
     "text": [
      "BertForMaskedLM has generative capabilities, as `prepare_inputs_for_generation` is explicitly overwritten. However, it doesn't directly inherit from `GenerationMixin`. From 👉v4.50👈 onwards, `PreTrainedModel` will NOT inherit from `GenerationMixin`, and this model will lose the ability to call `generate` and other related functions.\n",
      "  - If you're using `trust_remote_code=True`, you can get rid of this warning by loading the model with an auto class. See https://huggingface.co/docs/transformers/en/model_doc/auto#auto-classes\n",
      "  - If you are the owner of the model architecture code, please modify your model class such that it inherits from `GenerationMixin` (after `PreTrainedModel`, otherwise you'll get an exception).\n",
      "  - If you are not the owner of the model architecture class, please contact the model code owner to update it.\n",
      "Some weights of the model checkpoint at google-bert/bert-base-uncased were not used when initializing BertForMaskedLM: ['bert.pooler.dense.bias', 'bert.pooler.dense.weight', 'cls.seq_relationship.bias', 'cls.seq_relationship.weight']\n",
      "- This IS expected if you are initializing BertForMaskedLM from the checkpoint of a model trained on another task or with another architecture (e.g. initializing a BertForSequenceClassification model from a BertForPreTraining model).\n",
      "- This IS NOT expected if you are initializing BertForMaskedLM from the checkpoint of a model that you expect to be exactly identical (initializing a BertForSequenceClassification model from a BertForSequenceClassification model).\n"
     ]
    },
    {
     "ename": "ImportError",
     "evalue": "cannot import name 'tokenizer' from 'babl.model.bert' (unknown location)",
     "output_type": "error",
     "traceback": [
      "\u001b[0;31m---------------------------------------------------------------------------\u001b[0m",
      "\u001b[0;31mImportError\u001b[0m                               Traceback (most recent call last)",
      "Cell \u001b[0;32mIn[1], line 1\u001b[0m\n\u001b[0;32m----> 1\u001b[0m \u001b[38;5;28;01mfrom\u001b[39;00m\u001b[38;5;250m \u001b[39m\u001b[38;5;21;01mbabl\u001b[39;00m\u001b[38;5;21;01m.\u001b[39;00m\u001b[38;5;21;01mmodel\u001b[39;00m\u001b[38;5;21;01m.\u001b[39;00m\u001b[38;5;21;01mbert\u001b[39;00m\u001b[38;5;250m \u001b[39m\u001b[38;5;28;01mimport\u001b[39;00m tokenizer, model\n\u001b[1;32m      4\u001b[0m model\n",
      "\u001b[0;31mImportError\u001b[0m: cannot import name 'tokenizer' from 'babl.model.bert' (unknown location)"
     ]
    }
   ],
   "source": [
    "from babl.model.bert import tokenizer, model\n",
    "model"
   ]
  },
  {
   "cell_type": "code",
   "execution_count": 52,
   "metadata": {},
   "outputs": [
    {
     "data": {
      "text/plain": [
       "'one'"
      ]
     },
     "execution_count": 52,
     "metadata": {},
     "output_type": "execute_result"
    }
   ],
   "source": [
    "from transformers import T5Tokenizer, T5ForConditionalGeneration\n",
    "\n",
    "import torch \n",
    "from babl.model.T5.eval import clean \n",
    "from pprint import pprint \n",
    "from pathlib import Path \n",
    "\n",
    "\n",
    "\n",
    "model_path= Path('/home/nameduser/Code/babl/outputs/checkpoint-1')\n",
    "tok_path=  model_path.parent\n",
    "\n",
    "\n",
    "tok = T5Tokenizer.from_pretrained(tok_path)\n",
    "m = T5ForConditionalGeneration.from_pretrained(model_path)\n",
    "\n",
    "\n",
    "Predictor(tok, m, max_len =128)(\"How many countries are there in the United Kingdom?\")\n",
    "\n",
    "\n",
    "# print(inference())\n",
    "\n"
   ]
  },
  {
   "cell_type": "code",
   "execution_count": 12,
   "metadata": {},
   "outputs": [
    {
     "name": "stdout",
     "output_type": "stream",
     "text": [
      "dance='hey'\n"
     ]
    }
   ],
   "source": []
  },
  {
   "cell_type": "code",
   "execution_count": 18,
   "metadata": {},
   "outputs": [
    {
     "data": {
      "text/plain": [
       "'input_ids'"
      ]
     },
     "execution_count": 18,
     "metadata": {},
     "output_type": "execute_result"
    }
   ],
   "source": [
    "next(iter(tdl))"
   ]
  },
  {
   "cell_type": "markdown",
   "metadata": {},
   "source": [
    "# Dataset and loader"
   ]
  },
  {
   "cell_type": "code",
   "execution_count": 11,
   "metadata": {},
   "outputs": [],
   "source": [
    "from torch.utils.data import Dataset, dataloader\n",
    "\n",
    "\n",
    "class T2tDataset(Dataset):\n",
    "\n",
    "    def __init__(self, args):\n"
   ]
  },
  {
   "cell_type": "code",
   "execution_count": null,
   "metadata": {},
   "outputs": [],
   "source": []
  },
  {
   "cell_type": "code",
   "execution_count": null,
   "metadata": {},
   "outputs": [],
   "source": []
  }
 ],
 "metadata": {
  "kernelspec": {
   "display_name": "babl-qoEDH0A2",
   "language": "python",
   "name": "python3"
  },
  "language_info": {
   "codemirror_mode": {
    "name": "ipython",
    "version": 3
   },
   "file_extension": ".py",
   "mimetype": "text/x-python",
   "name": "python",
   "nbconvert_exporter": "python",
   "pygments_lexer": "ipython3",
   "version": "3.10.12"
  }
 },
 "nbformat": 4,
 "nbformat_minor": 2
}
